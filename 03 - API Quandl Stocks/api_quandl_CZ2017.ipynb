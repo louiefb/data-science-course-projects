{
 "cells": [
  {
   "cell_type": "markdown",
   "metadata": {},
   "source": [
    "This exercise will require you to pull some data from the Qunadl API. Qaundl is currently the most widely used aggregator of financial market data."
   ]
  },
  {
   "cell_type": "markdown",
   "metadata": {},
   "source": [
    "As a first step, you will need to register a free account on the http://www.quandl.com website."
   ]
  },
  {
   "cell_type": "markdown",
   "metadata": {},
   "source": [
    "After you register, you will be provided with a unique API key, that you should store:"
   ]
  },
  {
   "cell_type": "code",
   "execution_count": 1,
   "metadata": {},
   "outputs": [],
   "source": [
    "# Store the API key as a string - according to PEP8, constants are always named in all upper case\n",
    "API_KEY = \"******\""
   ]
  },
  {
   "cell_type": "markdown",
   "metadata": {},
   "source": [
    "Qaundl has a large number of data sources, but, unfortunately, most of them require a Premium subscription. Still, there are also a good number of free datasets."
   ]
  },
  {
   "cell_type": "markdown",
   "metadata": {},
   "source": [
    "For this mini project, we will focus on equities data from the Frankfurt Stock Exhange (FSE), which is available for free. We'll try and analyze the stock prices of a company called Carl Zeiss Meditec, which manufactures tools for eye examinations, as well as medical lasers for laser eye surgery: https://www.zeiss.com/meditec/int/home.html. The company is listed under the stock ticker AFX_X."
   ]
  },
  {
   "cell_type": "markdown",
   "metadata": {},
   "source": [
    "You can find the detailed Quandl API instructions here: https://docs.quandl.com/docs/time-series"
   ]
  },
  {
   "cell_type": "markdown",
   "metadata": {},
   "source": [
    "While there is a dedicated Python package for connecting to the Quandl API, we would prefer that you use the *requests* package, which can be easily downloaded using *pip* or *conda*. You can find the documentation for the package here: http://docs.python-requests.org/en/master/ "
   ]
  },
  {
   "cell_type": "markdown",
   "metadata": {},
   "source": [
    "Finally, apart from the *requests* package, you are encouraged to not use any third party Python packages, such as *pandas*, and instead focus on what's available in the Python Standard Library (the *collections* module might come in handy: https://pymotw.com/3/collections/).\n",
    "Also, since you won't have access to DataFrames, you are encouraged to us Python's native data structures - preferably dictionaries, though some questions can also be answered using lists.\n",
    "You can read more on these data structures here: https://docs.python.org/3/tutorial/datastructures.html"
   ]
  },
  {
   "cell_type": "markdown",
   "metadata": {},
   "source": [
    "Keep in mind that the JSON responses you will be getting from the API map almost one-to-one to Python's dictionaries. Unfortunately, they can be very nested, so make sure you read up on indexing dictionaries in the documentation provided above."
   ]
  },
  {
   "cell_type": "code",
   "execution_count": 2,
   "metadata": {},
   "outputs": [
    {
     "name": "stdout",
     "output_type": "stream",
     "text": [
      "JSON module will only be used to pretty-print JSON objects\n"
     ]
    }
   ],
   "source": [
    "# First, import the relevant modules\n",
    "import requests\n",
    "import json\n",
    "\n",
    "print(\"JSON module will only be used to pretty-print JSON objects\")"
   ]
  },
  {
   "cell_type": "code",
   "execution_count": 3,
   "metadata": {},
   "outputs": [],
   "source": [
    "# Now, call the Quandl API and pull out a small sample of the data (only one day) to get a glimpse\n",
    "# into the JSON structure that will be returned\n",
    "start_date = \"2019-02-01\"\n",
    "end_date = \"2019-02-01\"\n",
    "frequency = \"daily\"\n",
    "\n",
    "r = requests.get(\"https://www.quandl.com/api/v3/datasets/FSE/AFX_X.json?&start_date=\" \\\n",
    "                 + start_date + \"&end_date=\" + end_date + \"&frequency=\" + \"daily\"\n",
    "                 + \"&api_key=\" + API_KEY)\n",
    "sample = r.json()"
   ]
  },
  {
   "cell_type": "code",
   "execution_count": 4,
   "metadata": {},
   "outputs": [
    {
     "name": "stdout",
     "output_type": "stream",
     "text": [
      "{\n",
      "    \"dataset\": {\n",
      "        \"id\": 10095370,\n",
      "        \"dataset_code\": \"AFX_X\",\n",
      "        \"database_code\": \"FSE\",\n",
      "        \"name\": \"Carl Zeiss Meditec (AFX_X)\",\n",
      "        \"description\": \"Stock Prices for Carl Zeiss Meditec (AFX) from the Frankfurt Stock Exchange.<br><br>Trading System: Xetra<br><br>ISIN: DE0005313704\",\n",
      "        \"refreshed_at\": \"2019-02-01T22:31:00.330Z\",\n",
      "        \"newest_available_date\": \"2019-02-01\",\n",
      "        \"oldest_available_date\": \"2000-06-07\",\n",
      "        \"column_names\": [\n",
      "            \"Date\",\n",
      "            \"Open\",\n",
      "            \"High\",\n",
      "            \"Low\",\n",
      "            \"Close\",\n",
      "            \"Change\",\n",
      "            \"Traded Volume\",\n",
      "            \"Turnover\",\n",
      "            \"Last Price of the Day\",\n",
      "            \"Daily Traded Units\",\n",
      "            \"Daily Turnover\"\n",
      "        ],\n",
      "        \"frequency\": \"daily\",\n",
      "        \"type\": \"Time Series\",\n",
      "        \"premium\": false,\n",
      "        \"limit\": null,\n",
      "        \"transform\": null,\n",
      "        \"column_index\": null,\n",
      "        \"start_date\": \"2019-02-01\",\n",
      "        \"end_date\": \"2019-02-01\",\n",
      "        \"data\": [\n",
      "            [\n",
      "                \"2019-02-01\",\n",
      "                null,\n",
      "                81.65,\n",
      "                78.2,\n",
      "                78.45,\n",
      "                null,\n",
      "                null,\n",
      "                null,\n",
      "                null,\n",
      "                null,\n",
      "                null\n",
      "            ]\n",
      "        ],\n",
      "        \"collapse\": null,\n",
      "        \"order\": null,\n",
      "        \"database_id\": 6129\n",
      "    }\n",
      "}\n"
     ]
    }
   ],
   "source": [
    "# Inspect the JSON structure of the object you created, and take note of how nested it is,\n",
    "# as well as the overall structure\n",
    "sample = json.dumps(sample, indent=4)\n",
    "print(sample)"
   ]
  },
  {
   "cell_type": "markdown",
   "metadata": {},
   "source": [
    "These are your tasks for this mini project:\n",
    "\n",
    "1. Collect data from the Franfurt Stock Exchange, for the ticker AFX_X, for the whole year 2017 (keep in mind that the date format is YYYY-MM-DD).\n",
    "2. Convert the returned JSON object into a Python dictionary.\n",
    "3. Calculate what the highest and lowest opening prices were for the stock in this period.\n",
    "4. What was the largest change in any one day (based on High and Low price)?\n",
    "5. What was the largest change between any two days (based on Closing Price)?\n",
    "6. What was the average daily trading volume during this year?\n",
    "7. (Optional) What was the median trading volume during this year. (Note: you may need to implement your own function for calculating the median.)"
   ]
  },
  {
   "cell_type": "code",
   "execution_count": 5,
   "metadata": {},
   "outputs": [],
   "source": [
    "#Q1\n",
    "\n",
    "#assign parameters\n",
    "start_date = \"2017-01-01\"\n",
    "end_date = \"2017-12-31\"\n",
    "frequency = \"daily\"\n",
    "\n",
    "#send API request according to parameters\n",
    "r = requests.get(\"https://www.quandl.com/api/v3/datasets/FSE/AFX_X.json?&start_date=\" \\\n",
    "                 + start_date + \"&end_date=\" + end_date + \"&frequency=\" + \"daily\"\n",
    "                 + \"&api_key=\" + API_KEY)"
   ]
  },
  {
   "cell_type": "code",
   "execution_count": 6,
   "metadata": {},
   "outputs": [
    {
     "name": "stdout",
     "output_type": "stream",
     "text": [
      "<class 'dict'>\n"
     ]
    }
   ],
   "source": [
    "#Q2\n",
    "\n",
    "#convert JSON object to Python dict\n",
    "CZ_2017 = dict(r.json())\n",
    "print(type(CZ_2017))"
   ]
  },
  {
   "cell_type": "code",
   "execution_count": 7,
   "metadata": {},
   "outputs": [
    {
     "name": "stdout",
     "output_type": "stream",
     "text": [
      "The highest open price of 2017 was $53.11, occurred on 2017-12-14.\n",
      "The lowest open price of 2017 was $34.00, occurred on 2017-01-24.\n"
     ]
    }
   ],
   "source": [
    "#Q3\n",
    "\n",
    "#extract Dates and Open prices from data key\n",
    "open_prices = [daily_info[0:2] for daily_info in CZ_2017[\"dataset\"][\"data\"]]\n",
    "\n",
    "#filter only float datatype and remove NoneTypes\n",
    "open_prices = list(filter(lambda x: type(x[1]) == float, open_prices))\n",
    "\n",
    "#extract max and min open prices\n",
    "high_open = max(open_prices, key=lambda x: x[1])\n",
    "low_open = min(open_prices, key=lambda x: x[1])\n",
    "\n",
    "print(\"The highest open price of 2017 was $%.2f, occurred on %s.\" \\\n",
    "      % (high_open[1], high_open[0]))\n",
    "print(\"The lowest open price of 2017 was $%.2f, occurred on %s.\" \\\n",
    "      % (low_open[1], low_open[0]))"
   ]
  },
  {
   "cell_type": "code",
   "execution_count": 8,
   "metadata": {},
   "outputs": [
    {
     "name": "stdout",
     "output_type": "stream",
     "text": [
      "The highest swing occurred on 2017-05-11 with a day high of $46.06 and a day low of $43.25.\n",
      "That's a swing of $2.81, or 6%.\n"
     ]
    }
   ],
   "source": [
    "#Q4\n",
    "\n",
    "#extract common stock price information from data key\n",
    "price_info = [daily_info[0:5] for daily_info in CZ_2017[\"dataset\"][\"data\"]]\n",
    "\n",
    "#single out the element with highest difference between day high and day low\n",
    "intraday_swing = max(price_info, key=lambda x: abs(x[3] - x[2]))\n",
    "\n",
    "#give titles to elements\n",
    "date_swing = intraday_swing[0]\n",
    "day_high = intraday_swing[2]\n",
    "day_low = intraday_swing[3]\n",
    "\n",
    "print(\"The highest swing occurred on %s with a day high of $%.2f and a day low of $%.2f.\" \\\n",
    "      % (date_swing, day_high, day_low))\n",
    "print(\"That's a swing of $%.2f, or %.0f%%.\" % ((day_high - day_low), \\\n",
    "     ((day_high - day_low)/day_low)*100))"
   ]
  },
  {
   "cell_type": "code",
   "execution_count": 9,
   "metadata": {},
   "outputs": [
    {
     "name": "stdout",
     "output_type": "stream",
     "text": [
      "The highest closing price of 2017 occurred on 2017-12-13 at $53.09.\n",
      "The lowest closing price of 2017 occurred on 2017-01-23 at $34.06.\n",
      "That's a difference of $19.03, or 55.87%.\n"
     ]
    }
   ],
   "source": [
    "#Q5\n",
    "\n",
    "#extract element with highest close price\n",
    "high_close = max(price_info, key=lambda x: x[4])\n",
    "\n",
    "#extract element with lowest close price\n",
    "low_close = min(price_info, key=lambda x: x[4])\n",
    "\n",
    "#give titles to elements\n",
    "date_high = high_close[0]\n",
    "date_low = low_close[0]\n",
    "highest_price = high_close[4]\n",
    "lowest_price = low_close[4]\n",
    "\n",
    "print(\"The highest closing price of 2017 occurred on %s at $%.2f.\" % (date_high, highest_price))\n",
    "print(\"The lowest closing price of 2017 occurred on %s at $%.2f.\" % (date_low, lowest_price))\n",
    "print(\"That's a difference of $%.2f, or %.2f%%.\" % \\\n",
    "      ((highest_price - lowest_price), \\\n",
    "       (((highest_price - lowest_price)/lowest_price)*100)))"
   ]
  },
  {
   "cell_type": "code",
   "execution_count": 10,
   "metadata": {},
   "outputs": [
    {
     "name": "stdout",
     "output_type": "stream",
     "text": [
      "The average daily trading volume during 2017 was 89124.34.\n"
     ]
    }
   ],
   "source": [
    "#Q6\n",
    "\n",
    "#extract volume information from data key via list comprehension\n",
    "volume = [daily_info[6] for daily_info in CZ_2017[\"dataset\"][\"data\"]]\n",
    "\n",
    "#get number of trading days based on available data\n",
    "trading_days = len(volume)\n",
    "\n",
    "#calculate average daily trading volume\n",
    "avg_volume = sum(volume) / trading_days\n",
    "\n",
    "print(\"The average daily trading volume during 2017 was %.2f.\" % avg_volume)"
   ]
  },
  {
   "cell_type": "code",
   "execution_count": 11,
   "metadata": {},
   "outputs": [
    {
     "name": "stdout",
     "output_type": "stream",
     "text": [
      "The median trading volume during 2017 was 76286.\n"
     ]
    }
   ],
   "source": [
    "#Q7\n",
    "\n",
    "#define median function\n",
    "def get_median(vol):\n",
    "    vol = sorted(vol)\n",
    "    trading_days = len(vol)\n",
    "    median_index = trading_days//2\n",
    "    #if there are even no. of days, get average of center values\n",
    "    if trading_days % 2 == 0:\n",
    "        output = (vol[median_index-1] + vol[median_index])/2\n",
    "    #if there are odd no. of days, get value of center\n",
    "    else:\n",
    "        output = vol[median_index]\n",
    "    return output\n",
    "\n",
    "#define list and apply function\n",
    "volume = [daily_info[6] for daily_info in CZ_2017[\"dataset\"][\"data\"]]\n",
    "vol_median = get_median(volume)\n",
    "\n",
    "print(\"The median trading volume during 2017 was %.0f.\" % vol_median)"
   ]
  }
 ],
 "metadata": {
  "kernelspec": {
   "display_name": "Python 3",
   "language": "python",
   "name": "python3"
  },
  "language_info": {
   "codemirror_mode": {
    "name": "ipython",
    "version": 3
   },
   "file_extension": ".py",
   "mimetype": "text/x-python",
   "name": "python",
   "nbconvert_exporter": "python",
   "pygments_lexer": "ipython3",
   "version": "3.7.0"
  }
 },
 "nbformat": 4,
 "nbformat_minor": 2
}
